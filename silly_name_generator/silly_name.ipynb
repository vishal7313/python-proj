{
 "cells": [
  {
   "cell_type": "code",
   "execution_count": 3,
   "id": "d46f4c9f",
   "metadata": {},
   "outputs": [
    {
     "name": "stdout",
     "output_type": "stream",
     "text": [
      "Welcome to the Psych 'Sidekick Name Picker.'\n",
      "\n",
      "A name just like Sean would pick for Gus:\n",
      "\n",
      "\n",
      "Mergatroid Noseworthy\n",
      "\n",
      "\n",
      "Bud 'Lite' Peterson\n",
      "\n",
      "\n",
      "Longbranch Weiners\n",
      "\n",
      "\n"
     ]
    }
   ],
   "source": [
    "import sys, random\n",
    "\n",
    "def main():\n",
    "    print(\"Welcome to the Psych 'Sidekick Name Picker.'\\n\")\n",
    "    print(\"A name just like Sean would pick for Gus:\\n\\n\")\n",
    "\n",
    "    first = ('Baby Oil', 'Bad News', 'Big Burps', \"Bill 'Beenie-Weenie'\",\n",
    "             \"Bob 'Stinkbug'\", 'Bowel Noises', 'Boxelder', \"Bud 'Lite'\",\n",
    "             'Butterbean', 'Buttermilk', 'Buttocks', 'Chad', 'Chesterfield',\n",
    "             'Chewy', 'Chigger', 'Cinnabuns', 'Cleet', 'Cornbread', 'Crab Meat',\n",
    "             'Crapps', 'Dark Skies', 'Dennis Clawhammer', 'Dicman', 'Elphonso',\n",
    "             'Fancypants', 'Figgs', 'Foncy', 'Gootsy', 'Greasy Jim', 'Huckleberry',\n",
    "             'Huggy', 'Ignatious', 'Jimbo', \"Joe 'Pottin Soil'\", 'Johnny',\n",
    "             'Lemongrass', 'Lil Debil', 'Longbranch', '\"Lunch Money\"', 'Mergatroid',\n",
    "             '\"Mr Peabody\"', 'Oil-Can', 'Oinks', 'Old Scratch', 'Ovaltine',\n",
    "             'Pennywhistle', 'Pitchfork Ben', 'Potato Bug', 'Pushmeet',\n",
    "             'Rock Candy', 'Schlomo', 'Scratchensniff', 'Scut',\n",
    "             \"Sid 'The Squirts'\", 'Skidmark', 'Slaps', 'Snakes', 'Snoobs',\n",
    "             'Snorki', 'Soupcan Sam', 'Spitzitout', 'Squids', 'Stinky',\n",
    "             'Storyboard', 'Sweet Tea', 'TeeTee', 'Wheezy Joe',\n",
    "             \"Winston 'Jazz Hands'\", 'Worms')\n",
    "\n",
    "    last = ('Appleyard', 'Bigmeat', 'Bloominshine', 'Boogerbottom',\n",
    "            'Breedslovetrout', 'Butterbaugh', 'Clovenhoof', 'Clutterbuck',\n",
    "            'Cocktoasten', 'Endicott', 'Fewhairs', 'Gooberdapple', 'Goodensmith',\n",
    "            'Goodpasture', 'Guster', 'Henderson', 'Hooperbag', 'Hoosenater',\n",
    "            'Hootkins', 'Jefferson', 'Jenkins', 'Jingley-Schmidt', 'Johnson',\n",
    "            'Kingfish', 'Listenbee', \"M'Bembo\", 'McFadden', 'Moonshine', 'Nettles',\n",
    "            'Noseworthy', 'Olivetti', 'Outerbridge', 'Overpeck', 'Overturf',\n",
    "            'Oxhandler', 'Pealike', 'Pennywhistle', 'Peterson', 'Pieplow',\n",
    "            'Pinkerton', 'Porkins', 'Putney', 'Quakenbush', 'Rainwater',\n",
    "            'Rosenthal', 'Rubbins', 'Sackrider', 'Snuggleshine', 'Splern',\n",
    "            'Stevens', 'Stroganoff', 'Sugar-Gold', 'Swackhamer', 'Tippins',\n",
    "            'Turnipseed', 'Vinaigrette', 'Walkingstick', 'Wallbanger', 'Weewax',\n",
    "            'Weiners', 'Whipkey', 'Wigglesworth', 'Wimplesnatch', 'Winterkorn',\n",
    "            'Woolysocks')\n",
    "    \n",
    "    isTrue = True\n",
    "    while isTrue:\n",
    "        firstName = random.choice(first)\n",
    "        lastName = random.choice(last)\n",
    "                \n",
    "        print(firstName + ' ' + lastName)\n",
    "        print(\"\\n\")\n",
    "        \n",
    "        tryAgain = input(\"\\n\\nDo you want to try again? If yes Enter, otherwise q to quit\")\n",
    "        \n",
    "        if tryAgain.lower() == 'q':\n",
    "            isTrue = False\n",
    "        \n",
    "main()\n"
   ]
  },
  {
   "cell_type": "code",
   "execution_count": null,
   "id": "12fb25cd",
   "metadata": {},
   "outputs": [],
   "source": []
  },
  {
   "cell_type": "code",
   "execution_count": null,
   "id": "7fc4d5ea",
   "metadata": {},
   "outputs": [],
   "source": []
  }
 ],
 "metadata": {
  "kernelspec": {
   "display_name": "Python 3 (ipykernel)",
   "language": "python",
   "name": "python3"
  },
  "language_info": {
   "codemirror_mode": {
    "name": "ipython",
    "version": 3
   },
   "file_extension": ".py",
   "mimetype": "text/x-python",
   "name": "python",
   "nbconvert_exporter": "python",
   "pygments_lexer": "ipython3",
   "version": "3.10.9"
  }
 },
 "nbformat": 4,
 "nbformat_minor": 5
}
